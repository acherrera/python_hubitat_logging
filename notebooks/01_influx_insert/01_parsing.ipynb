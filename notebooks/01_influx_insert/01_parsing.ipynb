{
 "cells": [
  {
   "cell_type": "code",
   "execution_count": 60,
   "id": "3302cf91-fd29-4331-9db2-559bd137b946",
   "metadata": {},
   "outputs": [],
   "source": [
    "import json\n",
    "from influxdb import InfluxDBClient"
   ]
  },
  {
   "cell_type": "code",
   "execution_count": 78,
   "id": "70c1e865-7fa1-4a48-938b-01d187eabfc0",
   "metadata": {},
   "outputs": [],
   "source": [
    "env_file = '.env'\n",
    "with open(env_file) as f:\n",
    "    env_data = json.load(f)\n",
    "    \n",
    "ADDR = env_data[\"influx_ip\"]\n",
    "USER = env_data[\"username\"]\n",
    "PASS = env_data[\"password\"]"
   ]
  },
  {
   "cell_type": "code",
   "execution_count": 47,
   "id": "2105570f-6200-4266-82b2-fbe002ed73ba",
   "metadata": {},
   "outputs": [],
   "source": [
    "filename = \"./sample.logface\"\n",
    "with open(filename) as f:\n",
    "    messages = json.load(f)"
   ]
  },
  {
   "cell_type": "code",
   "execution_count": 86,
   "id": "eee2abc9-3ff4-4f5b-b007-15f03c34529c",
   "metadata": {},
   "outputs": [],
   "source": [
    "def message_parser(message):\n",
    "    \"\"\"\n",
    "    Exract info required for data insertion\n",
    "    \"\"\"\n",
    "    \n",
    "    # Used to remap values if needed\n",
    "    value_mapping = {\n",
    "        \"on\": 1,\n",
    "        \"off\": 0\n",
    "    }\n",
    "    \n",
    "    measurement=message[\"name\"]\n",
    "    displayName=message[\"displayName\"]\n",
    "    value=message[\"value\"]\n",
    "    unit=message[\"unit\"]\n",
    "    did=message[\"deviceId\"]\n",
    "    timestamp=message[\"ts\"]\n",
    "    if value in value_mapping.keys():\n",
    "        value = value_mapping[value]\n",
    "        \n",
    "    try:\n",
    "        value=float(value)\n",
    "    except ValueError as e:\n",
    "        # YES I'm passing this - this is because the incoming value is actually a string, let it free\n",
    "        pass\n",
    "    \n",
    "    if type(value) == str:\n",
    "        line = f'{measurement},deviceId={did} value=\"{value}\",unit=\"{unit}\",displayName=\"{displayName}\" {int(timestamp*1e9)}'\n",
    "    else:\n",
    "        line = f'{measurement},deviceId={did} value={value},unit=\"{unit}\",displayName=\"{displayName}\" {int(timestamp*1e9)}'\n",
    "    print(line)\n",
    "    return line"
   ]
  },
  {
   "cell_type": "code",
   "execution_count": 87,
   "id": "64781093-48aa-4949-8375-b713b5377446",
   "metadata": {},
   "outputs": [],
   "source": [
    "def insert_message(message):\n",
    "    \"\"\"\n",
    "    Write the message to the database after parsing\n",
    "    \"\"\"\n",
    "    line = message_parser(message)\n",
    "    client =InfluxDBClient(\n",
    "        host=ADDR,\n",
    "        port=8086,\n",
    "        username=USER,\n",
    "        password=PASS)\n",
    "\n",
    "    client.write([line], {'db': 'hubitat'}, 204, 'line')\n",
    "    client.close()"
   ]
  },
  {
   "cell_type": "code",
   "execution_count": 89,
   "id": "904646ca-902e-4d6a-9325-9e68d7dedc75",
   "metadata": {},
   "outputs": [
    {
     "name": "stdout",
     "output_type": "stream",
     "text": [
      "battery,deviceId=2 value=6.0,unit=\"%\",displayName=\"Living room temperature\" 1641151260103348224\n",
      "temperature,deviceId=2 value=66.87,unit=\"°F\",displayName=\"Living room temperature\" 1641151260106056192\n",
      "humidity,deviceId=2 value=31.3,unit=\"%\",displayName=\"Living room temperature\" 1641151260108071168\n",
      "pressure,deviceId=2 value=988.0,unit=\"mbar\",displayName=\"Living room temperature\" 1641151260109988096\n",
      "temperature,deviceId=2 value=66.87,unit=\"°F\",displayName=\"Living room temperature\" 1641151604972479488\n",
      "humidity,deviceId=2 value=31.5,unit=\"%\",displayName=\"Living room temperature\" 1641151604974621952\n",
      "pressure,deviceId=2 value=988.2,unit=\"mbar\",displayName=\"Living room temperature\" 1641151604976145920\n",
      "lastCheckin,deviceId=4 value=1641152137061.0,unit=\"None\",displayName=\"Rear sliding door\" 1641152133546369024\n",
      "battery,deviceId=4 value=99.0,unit=\"%\",displayName=\"Rear sliding door\" 1641152133548624896\n",
      "humidity,deviceId=43 value=25.2,unit=\"%\",displayName=\"Basement temp\" 1641153209143397632\n",
      "temperature,deviceId=43 value=59.4,unit=\"°F\",displayName=\"Basement temp\" 1641153209146157568\n",
      "pressure,deviceId=43 value=988.5,unit=\"mbar\",displayName=\"Basement temp\" 1641153209148685312\n",
      "battery,deviceId=43 value=2.0,unit=\"%\",displayName=\"Basement temp\" 1641153534177892608\n",
      "temperature,deviceId=43 value=59.45,unit=\"°F\",displayName=\"Basement temp\" 1641153534180507904\n",
      "humidity,deviceId=43 value=25.3,unit=\"%\",displayName=\"Basement temp\" 1641153534182428928\n",
      "pressure,deviceId=43 value=988.5,unit=\"mbar\",displayName=\"Basement temp\" 1641153534184379392\n",
      "temperature,deviceId=2 value=66.25,unit=\"°F\",displayName=\"Living room temperature\" 1641153742362939648\n",
      "humidity,deviceId=2 value=31.0,unit=\"%\",displayName=\"Living room temperature\" 1641153742366011904\n",
      "pressure,deviceId=2 value=987.9,unit=\"mbar\",displayName=\"Living room temperature\" 1641153742368456448\n",
      "temperature,deviceId=1 value=67.0,unit=\"°F\",displayName=\"Home thermostat\" 1641154265740763392\n",
      "battery,deviceId=2 value=6.0,unit=\"%\",displayName=\"Living room temperature\" 1641154674544535808\n",
      "temperature,deviceId=2 value=65.66,unit=\"°F\",displayName=\"Living room temperature\" 1641154674547457024\n",
      "humidity,deviceId=2 value=31.0,unit=\"%\",displayName=\"Living room temperature\" 1641154674549835776\n",
      "pressure,deviceId=2 value=988.1,unit=\"mbar\",displayName=\"Living room temperature\" 1641154674552128768\n",
      "thermostatOperatingState,deviceId=1 value=\"heating\",unit=\"None\",displayName=\"Home thermostat\" 1641154854987065856\n",
      "temperature,deviceId=43 value=59.22,unit=\"°F\",displayName=\"Basement temp\" 1641154965507863808\n",
      "humidity,deviceId=43 value=25.8,unit=\"%\",displayName=\"Basement temp\" 1641154965522410496\n",
      "pressure,deviceId=43 value=988.1,unit=\"mbar\",displayName=\"Basement temp\" 1641154965995885056\n",
      "temperature,deviceId=43 value=59.18,unit=\"°F\",displayName=\"Basement temp\" 1641154976440848128\n",
      "pressure,deviceId=43 value=988.3,unit=\"mbar\",displayName=\"Basement temp\" 1641154976443670784\n",
      "humidity,deviceId=43 value=25.9,unit=\"%\",displayName=\"Basement temp\" 1641154976445897728\n",
      "lastCheckin,deviceId=4 value=1641155147992.0,unit=\"None\",displayName=\"Rear sliding door\" 1641155144591370240\n",
      "battery,deviceId=4 value=99.0,unit=\"%\",displayName=\"Rear sliding door\" 1641155144594533120\n",
      "temperature,deviceId=1 value=68.0,unit=\"°F\",displayName=\"Home thermostat\" 1641155737098064896\n",
      "temperature,deviceId=43 value=60.1,unit=\"°F\",displayName=\"Basement temp\" 1641155737712795136\n",
      "humidity,deviceId=43 value=29.1,unit=\"%\",displayName=\"Basement temp\" 1641155737715502336\n",
      "pressure,deviceId=43 value=988.3,unit=\"mbar\",displayName=\"Basement temp\" 1641155737722243072\n",
      "thermostatOperatingState,deviceId=1 value=\"idle\",unit=\"None\",displayName=\"Home thermostat\" 1641156031198375168\n",
      "temperature,deviceId=1 value=70.0,unit=\"°F\",displayName=\"Home thermostat\" 1641156324990622720\n",
      "battery,deviceId=2 value=6.0,unit=\"%\",displayName=\"Living room temperature\" 1641157916074080512\n",
      "temperature,deviceId=2 value=66.4,unit=\"°F\",displayName=\"Living room temperature\" 1641157916077367808\n",
      "humidity,deviceId=2 value=31.2,unit=\"%\",displayName=\"Living room temperature\" 1641157916079665664\n",
      "pressure,deviceId=2 value=988.1,unit=\"mbar\",displayName=\"Living room temperature\" 1641157916081878272\n",
      "temperature,deviceId=43 value=60.51,unit=\"°F\",displayName=\"Basement temp\" 1641157980382641920\n",
      "pressure,deviceId=43 value=988.6,unit=\"mbar\",displayName=\"Basement temp\" 1641157980385434880\n",
      "humidity,deviceId=43 value=27.1,unit=\"%\",displayName=\"Basement temp\" 1641157980386974720\n",
      "battery,deviceId=43 value=2.0,unit=\"%\",displayName=\"Basement temp\" 1641158021341683456\n",
      "temperature,deviceId=43 value=60.46,unit=\"°F\",displayName=\"Basement temp\" 1641158021344689408\n",
      "humidity,deviceId=43 value=27.1,unit=\"%\",displayName=\"Basement temp\" 1641158021346167040\n",
      "pressure,deviceId=43 value=988.6,unit=\"mbar\",displayName=\"Basement temp\" 1641158021346733056\n",
      "temperature,deviceId=2 value=66.31,unit=\"°F\",displayName=\"Living room temperature\" 1641158129476453376\n",
      "humidity,deviceId=2 value=31.3,unit=\"%\",displayName=\"Living room temperature\" 1641158129479025664\n",
      "pressure,deviceId=2 value=988.1,unit=\"mbar\",displayName=\"Living room temperature\" 1641158129494291200\n",
      "lastCheckin,deviceId=4 value=1641158162159.0,unit=\"None\",displayName=\"Rear sliding door\" 1641158158528378880\n",
      "battery,deviceId=4 value=99.0,unit=\"%\",displayName=\"Rear sliding door\" 1641158158570978304\n",
      "temperature,deviceId=1 value=69.0,unit=\"°F\",displayName=\"Home thermostat\" 1641158383226869248\n"
     ]
    }
   ],
   "source": [
    "# Dumping all the data - good for validating the message parsing.\n",
    "for i in messages:\n",
    "    insert_message(i)"
   ]
  },
  {
   "cell_type": "code",
   "execution_count": null,
   "id": "1aba8174-0d29-4077-9f19-9b9a3253aa1e",
   "metadata": {},
   "outputs": [],
   "source": []
  }
 ],
 "metadata": {
  "kernelspec": {
   "display_name": "Python 3 (ipykernel)",
   "language": "python",
   "name": "python3"
  },
  "language_info": {
   "codemirror_mode": {
    "name": "ipython",
    "version": 3
   },
   "file_extension": ".py",
   "mimetype": "text/x-python",
   "name": "python",
   "nbconvert_exporter": "python",
   "pygments_lexer": "ipython3",
   "version": "3.8.10"
  }
 },
 "nbformat": 4,
 "nbformat_minor": 5
}
