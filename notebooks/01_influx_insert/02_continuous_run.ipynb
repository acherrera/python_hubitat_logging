{
 "cells": [
  {
   "cell_type": "code",
   "execution_count": 8,
   "id": "23fdc56e-ded6-4c25-a1f9-04a525de15ca",
   "metadata": {},
   "outputs": [],
   "source": [
    "import json\n",
    "from influxdb import InfluxDBClient\n",
    "from time import time\n",
    "import websocket"
   ]
  },
  {
   "cell_type": "code",
   "execution_count": 9,
   "id": "0816292e-4a6d-422e-8410-47823574b67f",
   "metadata": {},
   "outputs": [],
   "source": [
    "env_file = '.env'\n",
    "with open(env_file) as f:\n",
    "    env_data = json.load(f)\n",
    "    \n",
    "HUB_ADDR = env_data[\"hubitat_ip\"]\n",
    "INFLUX_ADDR = env_data[\"influx_ip\"]\n",
    "USER = env_data[\"username\"]\n",
    "PASS = env_data[\"password\"]\n",
    "\n",
    "e_sock = f\"ws://{HUB_ADDR}/eventsocket\""
   ]
  },
  {
   "cell_type": "code",
   "execution_count": 10,
   "id": "a3fe626b-b54a-4640-93eb-972437733e5e",
   "metadata": {},
   "outputs": [],
   "source": [
    "def message_parser(message):\n",
    "    \"\"\"\n",
    "    Exract info required for data insertion\n",
    "    \"\"\"\n",
    "    \n",
    "    # Used to remap values if needed\n",
    "    value_mapping = {\n",
    "        \"on\": 1,\n",
    "        \"off\": 0\n",
    "    }\n",
    "    \n",
    "    measurement=message[\"name\"]\n",
    "    displayName=message[\"displayName\"]\n",
    "    value=message[\"value\"]\n",
    "    unit=message[\"unit\"]\n",
    "    did=message[\"deviceId\"]\n",
    "    timestamp=message[\"ts\"]\n",
    "    if value in value_mapping.keys():\n",
    "        value = value_mapping[value]\n",
    "\n",
    "    try:\n",
    "        value=float(value)\n",
    "    except ValueError as e:\n",
    "        # YES I'm passing this - this is because the incoming value is actually a string, let it free\n",
    "        pass\n",
    "    \n",
    "    if type(value) == str:\n",
    "        line = f'{measurement},deviceId={did} value=\"{value}\",unit=\"{unit}\",displayName=\"{displayName}\" {int(timestamp*1e9)}'\n",
    "    else:\n",
    "        line = f'{measurement},deviceId={did} value={value},unit=\"{unit}\",displayName=\"{displayName}\" {int(timestamp*1e9)}'\n",
    "    print(line)\n",
    "    return line"
   ]
  },
  {
   "cell_type": "code",
   "execution_count": 11,
   "id": "c05a9d8b-85c4-4bb9-8eaa-f3cf9d1a09a2",
   "metadata": {},
   "outputs": [],
   "source": [
    "def insert_message(wsapp, message):\n",
    "    \"\"\"\n",
    "    Write the message to the database after parsing\n",
    "    \"\"\"\n",
    "    message = json.loads(message)\n",
    "    message[\"ts\"] = time()\n",
    "    line = message_parser(message)\n",
    "    client =InfluxDBClient(\n",
    "        host=INFLUX_ADDR,\n",
    "        port=8086,\n",
    "        username=USER,\n",
    "        password=PASS)\n",
    "\n",
    "    client.write([line], {'db': 'hubitat'}, 204, 'line')\n",
    "    client.close()"
   ]
  },
  {
   "cell_type": "code",
   "execution_count": 12,
   "id": "9ab9c296-3c43-4b22-86e7-32eac58b5e50",
   "metadata": {},
   "outputs": [
    {
     "name": "stdout",
     "output_type": "stream",
     "text": [
      "battery,deviceId=2 value=6.0,unit=\"%\",displayName=\"Living room temperature\" 1641161858496754176\n",
      "temperature,deviceId=2 value=65.07,unit=\"°F\",displayName=\"Living room temperature\" 1641161858513209600\n",
      "humidity,deviceId=2 value=32.0,unit=\"%\",displayName=\"Living room temperature\" 1641161858607134720\n",
      "pressure,deviceId=2 value=988.5,unit=\"mbar\",displayName=\"Living room temperature\" 1641161858703175680\n",
      "temperature,deviceId=1 value=67.0,unit=\"°F\",displayName=\"Home thermostat\" 1641161914713707776\n",
      "temperature,deviceId=1 value=67.0,unit=\"°F\",displayName=\"Home thermostat\" 1641161914758830592\n",
      "battery,deviceId=43 value=2.0,unit=\"%\",displayName=\"Basement temp\" 1641162508113442816\n",
      "temperature,deviceId=43 value=60.28,unit=\"°F\",displayName=\"Basement temp\" 1641162508125943552\n",
      "pressure,deviceId=43 value=989.1,unit=\"mbar\",displayName=\"Basement temp\" 1641162508193814784\n",
      "humidity,deviceId=43 value=30.0,unit=\"%\",displayName=\"Basement temp\" 1641162508729617664\n",
      "temperature,deviceId=43 value=60.57,unit=\"°F\",displayName=\"Basement temp\" 1641162599957896192\n",
      "pressure,deviceId=43 value=989.0,unit=\"mbar\",displayName=\"Basement temp\" 1641162600023344128\n",
      "humidity,deviceId=43 value=30.0,unit=\"%\",displayName=\"Basement temp\" 1641162600133150976\n",
      "temperature,deviceId=2 value=66.63,unit=\"°F\",displayName=\"Living room temperature\" 1641163064267923712\n",
      "humidity,deviceId=2 value=30.7,unit=\"%\",displayName=\"Living room temperature\" 1641163064367011328\n",
      "pressure,deviceId=2 value=988.5,unit=\"mbar\",displayName=\"Living room temperature\" 1641163064457957632\n",
      "temperature,deviceId=1 value=68.0,unit=\"°F\",displayName=\"Home thermostat\" 1641163093220095488\n",
      "pressure,deviceId=43 value=989.0,unit=\"mbar\",displayName=\"Basement temp\" 1641163320780517888\n",
      "temperature,deviceId=43 value=61.47,unit=\"°F\",displayName=\"Basement temp\" 1641163320792165632\n",
      "humidity,deviceId=43 value=30.8,unit=\"%\",displayName=\"Basement temp\" 1641163320882000896\n"
     ]
    },
    {
     "data": {
      "text/plain": [
       "False"
      ]
     },
     "execution_count": 12,
     "metadata": {},
     "output_type": "execute_result"
    }
   ],
   "source": [
    "wsapp = websocket.WebSocketApp(e_sock, on_message=insert_message)\n",
    "wsapp.run_forever()"
   ]
  },
  {
   "cell_type": "code",
   "execution_count": null,
   "id": "8d19e669-f9b6-4946-8fe6-e0e35a8ea851",
   "metadata": {},
   "outputs": [],
   "source": []
  }
 ],
 "metadata": {
  "kernelspec": {
   "display_name": "Python 3 (ipykernel)",
   "language": "python",
   "name": "python3"
  },
  "language_info": {
   "codemirror_mode": {
    "name": "ipython",
    "version": 3
   },
   "file_extension": ".py",
   "mimetype": "text/x-python",
   "name": "python",
   "nbconvert_exporter": "python",
   "pygments_lexer": "ipython3",
   "version": "3.8.10"
  }
 },
 "nbformat": 4,
 "nbformat_minor": 5
}
