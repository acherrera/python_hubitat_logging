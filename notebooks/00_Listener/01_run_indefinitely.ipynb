{
 "cells": [
  {
   "cell_type": "markdown",
   "id": "24f55abf-6eb4-4366-b008-343296ddc47d",
   "metadata": {},
   "source": [
    "# Running Indefinitely\n",
    "\n",
    "This program is meant to run indefinitely. This requires a few things. First, it has to keep running (duh). BUT, more importantly, it has to run syncronously so that messages are not missed. Thankfully websocket does this by default, so this should not be terribly difficult to manage. \n",
    "\n",
    "Get message => add timestamp => add to influx db"
   ]
  },
  {
   "cell_type": "code",
   "execution_count": 1,
   "id": "8e585e23-094f-43c9-8e33-adf489afc372",
   "metadata": {},
   "outputs": [],
   "source": [
    "import websocket\n",
    "import json\n",
    "from time import time"
   ]
  },
  {
   "cell_type": "code",
   "execution_count": 7,
   "id": "40e94852-d037-4bd9-b7b8-0f5e32d0bcdb",
   "metadata": {},
   "outputs": [],
   "source": [
    "\n",
    "env_file = \"../01_influx_insert/.env\"\n",
    "with open(env_file) as f:\n",
    "    env_data = json.load(f)\n",
    "    \n",
    "IP_ADDR = env_data[\"hubitat_ip\"]\n",
    "\n",
    "e_sock = f\"ws://{IP_ADDR}/eventsocket\"\n",
    "l_sock = f\"ws://{IP_ADDR}/logsocket\""
   ]
  },
  {
   "cell_type": "code",
   "execution_count": null,
   "id": "e2093490-6d88-4bb0-a804-c3b467033e57",
   "metadata": {},
   "outputs": [],
   "source": [
    "def on_message(wsapp, message):\n",
    "    \"\"\"\n",
    "    Handles the logging of the data.\n",
    "    \"\"\"\n",
    "    filename = \"loggy.mclogface\"\n",
    "    message = json.loads(message)\n",
    "    message[\"ts\"] = time()\n",
    "    print(message)\n",
    "    with open(filename, \"a\") as f:\n",
    "        f.write(json.dumps(message) + \",\\n\")"
   ]
  },
  {
   "cell_type": "code",
   "execution_count": 4,
   "id": "5a6001ee-0b8d-4f30-98a9-c484d14343fc",
   "metadata": {},
   "outputs": [
    {
     "name": "stdout",
     "output_type": "stream",
     "text": [
      "{'source': 'DEVICE', 'name': 'temperature', 'displayName': 'Living room temperature', 'value': '66.87', 'unit': '°F', 'deviceId': 2, 'hubId': None, 'locationId': None, 'installedAppId': None, 'descriptionText': 'Temperature is 66.87°F', 'ts': 1641151604.9724796}\n",
      "{'source': 'DEVICE', 'name': 'humidity', 'displayName': 'Living room temperature', 'value': '31.5', 'unit': '%', 'deviceId': 2, 'hubId': None, 'locationId': None, 'installedAppId': None, 'descriptionText': 'Humidity is 31.5%', 'ts': 1641151604.974622}\n",
      "{'source': 'DEVICE', 'name': 'pressure', 'displayName': 'Living room temperature', 'value': '988.2', 'unit': 'mbar', 'deviceId': 2, 'hubId': None, 'locationId': None, 'installedAppId': None, 'descriptionText': 'Pressure is 988.2 mbar', 'ts': 1641151604.976146}\n",
      "{'source': 'DEVICE', 'name': 'lastCheckin', 'displayName': 'Rear sliding door', 'value': '1641152137061', 'unit': None, 'deviceId': 4, 'hubId': None, 'locationId': None, 'installedAppId': None, 'descriptionText': None, 'ts': 1641152133.546369}\n",
      "{'source': 'DEVICE', 'name': 'battery', 'displayName': 'Rear sliding door', 'value': '99', 'unit': '%', 'deviceId': 4, 'hubId': None, 'locationId': None, 'installedAppId': None, 'descriptionText': 'Battery level is 99% (2.995 Volts)', 'ts': 1641152133.548625}\n",
      "{'source': 'DEVICE', 'name': 'humidity', 'displayName': 'Basement temp', 'value': '25.2', 'unit': '%', 'deviceId': 43, 'hubId': None, 'locationId': None, 'installedAppId': None, 'descriptionText': 'Humidity is 25.2%', 'ts': 1641153209.1433976}\n",
      "{'source': 'DEVICE', 'name': 'temperature', 'displayName': 'Basement temp', 'value': '59.4', 'unit': '°F', 'deviceId': 43, 'hubId': None, 'locationId': None, 'installedAppId': None, 'descriptionText': 'Temperature is 59.4°F', 'ts': 1641153209.1461575}\n",
      "{'source': 'DEVICE', 'name': 'pressure', 'displayName': 'Basement temp', 'value': '988.5', 'unit': 'mbar', 'deviceId': 43, 'hubId': None, 'locationId': None, 'installedAppId': None, 'descriptionText': 'Pressure is 988.5 mbar', 'ts': 1641153209.1486852}\n",
      "{'source': 'DEVICE', 'name': 'battery', 'displayName': 'Basement temp', 'value': '2', 'unit': '%', 'deviceId': 43, 'hubId': None, 'locationId': None, 'installedAppId': None, 'descriptionText': 'Battery level is 2% (2.805 Volts)', 'ts': 1641153534.1778927}\n",
      "{'source': 'DEVICE', 'name': 'temperature', 'displayName': 'Basement temp', 'value': '59.45', 'unit': '°F', 'deviceId': 43, 'hubId': None, 'locationId': None, 'installedAppId': None, 'descriptionText': 'Temperature is 59.45°F (check-in report)', 'ts': 1641153534.180508}\n",
      "{'source': 'DEVICE', 'name': 'humidity', 'displayName': 'Basement temp', 'value': '25.3', 'unit': '%', 'deviceId': 43, 'hubId': None, 'locationId': None, 'installedAppId': None, 'descriptionText': 'Humidity is 25.3% (check-in report)', 'ts': 1641153534.1824288}\n",
      "{'source': 'DEVICE', 'name': 'pressure', 'displayName': 'Basement temp', 'value': '988.5', 'unit': 'mbar', 'deviceId': 43, 'hubId': None, 'locationId': None, 'installedAppId': None, 'descriptionText': 'Pressure is 988.5 mbar (check-in report)', 'ts': 1641153534.1843793}\n",
      "{'source': 'DEVICE', 'name': 'temperature', 'displayName': 'Living room temperature', 'value': '66.25', 'unit': '°F', 'deviceId': 2, 'hubId': None, 'locationId': None, 'installedAppId': None, 'descriptionText': 'Temperature is 66.25°F', 'ts': 1641153742.3629396}\n",
      "{'source': 'DEVICE', 'name': 'humidity', 'displayName': 'Living room temperature', 'value': '31.0', 'unit': '%', 'deviceId': 2, 'hubId': None, 'locationId': None, 'installedAppId': None, 'descriptionText': 'Humidity is 31.0%', 'ts': 1641153742.3660119}\n",
      "{'source': 'DEVICE', 'name': 'pressure', 'displayName': 'Living room temperature', 'value': '987.9', 'unit': 'mbar', 'deviceId': 2, 'hubId': None, 'locationId': None, 'installedAppId': None, 'descriptionText': 'Pressure is 987.9 mbar', 'ts': 1641153742.3684564}\n",
      "{'source': 'DEVICE', 'name': 'temperature', 'displayName': 'Home thermostat', 'value': '67', 'unit': '°F', 'deviceId': 1, 'hubId': None, 'locationId': None, 'installedAppId': None, 'descriptionText': 'Home thermostat temperature is 67°F', 'ts': 1641154265.7407634}\n",
      "{'source': 'DEVICE', 'name': 'battery', 'displayName': 'Living room temperature', 'value': '6', 'unit': '%', 'deviceId': 2, 'hubId': None, 'locationId': None, 'installedAppId': None, 'descriptionText': 'Battery level is 6% (2.815 Volts)', 'ts': 1641154674.5445359}\n",
      "{'source': 'DEVICE', 'name': 'temperature', 'displayName': 'Living room temperature', 'value': '65.66', 'unit': '°F', 'deviceId': 2, 'hubId': None, 'locationId': None, 'installedAppId': None, 'descriptionText': 'Temperature is 65.66°F (check-in report)', 'ts': 1641154674.547457}\n",
      "{'source': 'DEVICE', 'name': 'humidity', 'displayName': 'Living room temperature', 'value': '31.0', 'unit': '%', 'deviceId': 2, 'hubId': None, 'locationId': None, 'installedAppId': None, 'descriptionText': 'Humidity is 31.0% (check-in report)', 'ts': 1641154674.5498357}\n",
      "{'source': 'DEVICE', 'name': 'pressure', 'displayName': 'Living room temperature', 'value': '988.1', 'unit': 'mbar', 'deviceId': 2, 'hubId': None, 'locationId': None, 'installedAppId': None, 'descriptionText': 'Pressure is 988.1 mbar (check-in report)', 'ts': 1641154674.5521288}\n",
      "{'source': 'DEVICE', 'name': 'thermostatOperatingState', 'displayName': 'Home thermostat', 'value': 'heating', 'unit': None, 'deviceId': 1, 'hubId': None, 'locationId': None, 'installedAppId': None, 'descriptionText': 'Home thermostat thermostatOperatingState is heating', 'ts': 1641154854.9870658}\n",
      "{'source': 'DEVICE', 'name': 'temperature', 'displayName': 'Basement temp', 'value': '59.22', 'unit': '°F', 'deviceId': 43, 'hubId': None, 'locationId': None, 'installedAppId': None, 'descriptionText': 'Temperature is 59.22°F', 'ts': 1641154965.5078638}\n",
      "{'source': 'DEVICE', 'name': 'humidity', 'displayName': 'Basement temp', 'value': '25.8', 'unit': '%', 'deviceId': 43, 'hubId': None, 'locationId': None, 'installedAppId': None, 'descriptionText': 'Humidity is 25.8%', 'ts': 1641154965.5224104}\n",
      "{'source': 'DEVICE', 'name': 'pressure', 'displayName': 'Basement temp', 'value': '988.1', 'unit': 'mbar', 'deviceId': 43, 'hubId': None, 'locationId': None, 'installedAppId': None, 'descriptionText': 'Pressure is 988.1 mbar', 'ts': 1641154965.9958851}\n",
      "{'source': 'DEVICE', 'name': 'temperature', 'displayName': 'Basement temp', 'value': '59.18', 'unit': '°F', 'deviceId': 43, 'hubId': None, 'locationId': None, 'installedAppId': None, 'descriptionText': 'Temperature is 59.18°F', 'ts': 1641154976.440848}\n",
      "{'source': 'DEVICE', 'name': 'pressure', 'displayName': 'Basement temp', 'value': '988.3', 'unit': 'mbar', 'deviceId': 43, 'hubId': None, 'locationId': None, 'installedAppId': None, 'descriptionText': 'Pressure is 988.3 mbar', 'ts': 1641154976.4436707}\n",
      "{'source': 'DEVICE', 'name': 'humidity', 'displayName': 'Basement temp', 'value': '25.9', 'unit': '%', 'deviceId': 43, 'hubId': None, 'locationId': None, 'installedAppId': None, 'descriptionText': 'Humidity is 25.9%', 'ts': 1641154976.4458978}\n",
      "{'source': 'DEVICE', 'name': 'lastCheckin', 'displayName': 'Rear sliding door', 'value': '1641155147992', 'unit': None, 'deviceId': 4, 'hubId': None, 'locationId': None, 'installedAppId': None, 'descriptionText': None, 'ts': 1641155144.5913703}\n",
      "{'source': 'DEVICE', 'name': 'battery', 'displayName': 'Rear sliding door', 'value': '99', 'unit': '%', 'deviceId': 4, 'hubId': None, 'locationId': None, 'installedAppId': None, 'descriptionText': 'Battery level is 99% (2.995 Volts)', 'ts': 1641155144.5945332}\n",
      "{'source': 'DEVICE', 'name': 'temperature', 'displayName': 'Home thermostat', 'value': '68', 'unit': '°F', 'deviceId': 1, 'hubId': None, 'locationId': None, 'installedAppId': None, 'descriptionText': 'Home thermostat temperature is 68°F', 'ts': 1641155737.098065}\n",
      "{'source': 'DEVICE', 'name': 'temperature', 'displayName': 'Basement temp', 'value': '60.1', 'unit': '°F', 'deviceId': 43, 'hubId': None, 'locationId': None, 'installedAppId': None, 'descriptionText': 'Temperature is 60.1°F', 'ts': 1641155737.712795}\n",
      "{'source': 'DEVICE', 'name': 'humidity', 'displayName': 'Basement temp', 'value': '29.1', 'unit': '%', 'deviceId': 43, 'hubId': None, 'locationId': None, 'installedAppId': None, 'descriptionText': 'Humidity is 29.1%', 'ts': 1641155737.7155023}\n",
      "{'source': 'DEVICE', 'name': 'pressure', 'displayName': 'Basement temp', 'value': '988.3', 'unit': 'mbar', 'deviceId': 43, 'hubId': None, 'locationId': None, 'installedAppId': None, 'descriptionText': 'Pressure is 988.3 mbar', 'ts': 1641155737.722243}\n",
      "{'source': 'DEVICE', 'name': 'thermostatOperatingState', 'displayName': 'Home thermostat', 'value': 'idle', 'unit': None, 'deviceId': 1, 'hubId': None, 'locationId': None, 'installedAppId': None, 'descriptionText': 'Home thermostat thermostatOperatingState is idle', 'ts': 1641156031.1983752}\n",
      "{'source': 'DEVICE', 'name': 'temperature', 'displayName': 'Home thermostat', 'value': '70', 'unit': '°F', 'deviceId': 1, 'hubId': None, 'locationId': None, 'installedAppId': None, 'descriptionText': 'Home thermostat temperature is 70°F', 'ts': 1641156324.9906228}\n",
      "{'source': 'DEVICE', 'name': 'battery', 'displayName': 'Living room temperature', 'value': '6', 'unit': '%', 'deviceId': 2, 'hubId': None, 'locationId': None, 'installedAppId': None, 'descriptionText': 'Battery level is 6% (2.815 Volts)', 'ts': 1641157916.0740805}\n",
      "{'source': 'DEVICE', 'name': 'temperature', 'displayName': 'Living room temperature', 'value': '66.4', 'unit': '°F', 'deviceId': 2, 'hubId': None, 'locationId': None, 'installedAppId': None, 'descriptionText': 'Temperature is 66.4°F (check-in report)', 'ts': 1641157916.0773678}\n",
      "{'source': 'DEVICE', 'name': 'humidity', 'displayName': 'Living room temperature', 'value': '31.2', 'unit': '%', 'deviceId': 2, 'hubId': None, 'locationId': None, 'installedAppId': None, 'descriptionText': 'Humidity is 31.2% (check-in report)', 'ts': 1641157916.0796657}\n",
      "{'source': 'DEVICE', 'name': 'pressure', 'displayName': 'Living room temperature', 'value': '988.1', 'unit': 'mbar', 'deviceId': 2, 'hubId': None, 'locationId': None, 'installedAppId': None, 'descriptionText': 'Pressure is 988.1 mbar (check-in report)', 'ts': 1641157916.0818782}\n",
      "{'source': 'DEVICE', 'name': 'temperature', 'displayName': 'Basement temp', 'value': '60.51', 'unit': '°F', 'deviceId': 43, 'hubId': None, 'locationId': None, 'installedAppId': None, 'descriptionText': 'Temperature is 60.51°F', 'ts': 1641157980.382642}\n",
      "{'source': 'DEVICE', 'name': 'pressure', 'displayName': 'Basement temp', 'value': '988.6', 'unit': 'mbar', 'deviceId': 43, 'hubId': None, 'locationId': None, 'installedAppId': None, 'descriptionText': 'Pressure is 988.6 mbar', 'ts': 1641157980.3854349}\n",
      "{'source': 'DEVICE', 'name': 'humidity', 'displayName': 'Basement temp', 'value': '27.1', 'unit': '%', 'deviceId': 43, 'hubId': None, 'locationId': None, 'installedAppId': None, 'descriptionText': 'Humidity is 27.1%', 'ts': 1641157980.3869748}\n",
      "{'source': 'DEVICE', 'name': 'battery', 'displayName': 'Basement temp', 'value': '2', 'unit': '%', 'deviceId': 43, 'hubId': None, 'locationId': None, 'installedAppId': None, 'descriptionText': 'Battery level is 2% (2.805 Volts)', 'ts': 1641158021.3416834}\n",
      "{'source': 'DEVICE', 'name': 'temperature', 'displayName': 'Basement temp', 'value': '60.46', 'unit': '°F', 'deviceId': 43, 'hubId': None, 'locationId': None, 'installedAppId': None, 'descriptionText': 'Temperature is 60.46°F (check-in report)', 'ts': 1641158021.3446894}\n",
      "{'source': 'DEVICE', 'name': 'humidity', 'displayName': 'Basement temp', 'value': '27.1', 'unit': '%', 'deviceId': 43, 'hubId': None, 'locationId': None, 'installedAppId': None, 'descriptionText': 'Humidity is 27.1% (check-in report)', 'ts': 1641158021.346167}\n",
      "{'source': 'DEVICE', 'name': 'pressure', 'displayName': 'Basement temp', 'value': '988.6', 'unit': 'mbar', 'deviceId': 43, 'hubId': None, 'locationId': None, 'installedAppId': None, 'descriptionText': 'Pressure is 988.6 mbar (check-in report)', 'ts': 1641158021.346733}\n",
      "{'source': 'DEVICE', 'name': 'temperature', 'displayName': 'Living room temperature', 'value': '66.31', 'unit': '°F', 'deviceId': 2, 'hubId': None, 'locationId': None, 'installedAppId': None, 'descriptionText': 'Temperature is 66.31°F', 'ts': 1641158129.4764533}\n",
      "{'source': 'DEVICE', 'name': 'humidity', 'displayName': 'Living room temperature', 'value': '31.3', 'unit': '%', 'deviceId': 2, 'hubId': None, 'locationId': None, 'installedAppId': None, 'descriptionText': 'Humidity is 31.3%', 'ts': 1641158129.4790256}\n",
      "{'source': 'DEVICE', 'name': 'pressure', 'displayName': 'Living room temperature', 'value': '988.1', 'unit': 'mbar', 'deviceId': 2, 'hubId': None, 'locationId': None, 'installedAppId': None, 'descriptionText': 'Pressure is 988.1 mbar', 'ts': 1641158129.4942913}\n",
      "{'source': 'DEVICE', 'name': 'lastCheckin', 'displayName': 'Rear sliding door', 'value': '1641158162159', 'unit': None, 'deviceId': 4, 'hubId': None, 'locationId': None, 'installedAppId': None, 'descriptionText': None, 'ts': 1641158158.528379}\n",
      "{'source': 'DEVICE', 'name': 'battery', 'displayName': 'Rear sliding door', 'value': '99', 'unit': '%', 'deviceId': 4, 'hubId': None, 'locationId': None, 'installedAppId': None, 'descriptionText': 'Battery level is 99% (2.995 Volts)', 'ts': 1641158158.5709784}\n",
      "{'source': 'DEVICE', 'name': 'temperature', 'displayName': 'Home thermostat', 'value': '69', 'unit': '°F', 'deviceId': 1, 'hubId': None, 'locationId': None, 'installedAppId': None, 'descriptionText': 'Home thermostat temperature is 69°F', 'ts': 1641158383.2268693}\n"
     ]
    },
    {
     "data": {
      "text/plain": [
       "False"
      ]
     },
     "execution_count": 4,
     "metadata": {},
     "output_type": "execute_result"
    }
   ],
   "source": [
    "\n",
    "wsapp = websocket.WebSocketApp(e_sock, on_message=on_message)\n",
    "wsapp.run_forever()"
   ]
  },
  {
   "cell_type": "code",
   "execution_count": 5,
   "id": "ba7b4ae3-ce9a-42b4-8833-1e0acf088e98",
   "metadata": {},
   "outputs": [],
   "source": [
    "aa = json.loads('{\"asdf\":\"ff\"}')"
   ]
  },
  {
   "cell_type": "code",
   "execution_count": null,
   "id": "64f1e8f5-b653-4dfe-bf88-4bf47187d35b",
   "metadata": {},
   "outputs": [],
   "source": []
  }
 ],
 "metadata": {
  "kernelspec": {
   "display_name": "Python 3 (ipykernel)",
   "language": "python",
   "name": "python3"
  },
  "language_info": {
   "codemirror_mode": {
    "name": "ipython",
    "version": 3
   },
   "file_extension": ".py",
   "mimetype": "text/x-python",
   "name": "python",
   "nbconvert_exporter": "python",
   "pygments_lexer": "ipython3",
   "version": "3.8.10"
  }
 },
 "nbformat": 4,
 "nbformat_minor": 5
}
