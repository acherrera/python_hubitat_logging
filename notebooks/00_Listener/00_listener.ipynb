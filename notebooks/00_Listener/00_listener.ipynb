{
 "cells": [
  {
   "cell_type": "markdown",
   "id": "7e8578cd-dde0-4814-9c3c-c861633ad64b",
   "metadata": {},
   "source": [
    "# Initial Listener Development\n",
    "\n",
    "This is based off: https://community.hubitat.com/t/hubitat-nodered-mysql-grafana-long-read/12162\n",
    "\n",
    "This important bit for getting the data:\n",
    "> What I've done is created two websocket listeners and pointed them to ws://[hubitat_ip]/eventsocket and ws://[hubitat_ip]/logsocket. \n",
    "  These catch everything that you see in the /logs page on your hub.\n",
    " \n",
    " \n",
    "Let's try to do that with Python now.\n",
    "\n",
    "Documentation for websocket can be found here: https://websocket-client.readthedocs.io/en/latest/"
   ]
  },
  {
   "cell_type": "code",
   "execution_count": 11,
   "id": "c8b91783-f0aa-41be-b605-e96c7362e5c8",
   "metadata": {},
   "outputs": [],
   "source": [
    "from websocket import create_connection\n",
    "import json"
   ]
  },
  {
   "cell_type": "code",
   "execution_count": 3,
   "id": "3580ec89-2518-43e0-958b-5a99fbcee608",
   "metadata": {},
   "outputs": [],
   "source": [
    "IP_ADDR = \"192.168.1.7\"\n",
    "\n",
    "e_sock = f\"ws://{IP_ADDR}/eventsocket\"\n",
    "l_sock = f\"ws://{IP_ADDR}/logsocket\""
   ]
  },
  {
   "cell_type": "code",
   "execution_count": 9,
   "id": "9bbc5f40-2a87-490e-a5eb-a180bc634023",
   "metadata": {},
   "outputs": [
    {
     "name": "stdout",
     "output_type": "stream",
     "text": [
      "Receiving...\n",
      "Received {\"source\":\"DEVICE\",\"name\":\"switch\",\"displayName\":\"Living Room Lights\",\"value\":\"off\",\"unit\":null,\"deviceId\":41,\"hubId\":null,\"locationId\":null,\"installedAppId\":null,\"descriptionText\":\"Living Room Lights was turned off\"}\n"
     ]
    }
   ],
   "source": [
    "ws = create_connection(e_sock)\n",
    "print(\"Receiving...\")\n",
    "result =  ws.recv()\n",
    "print(f\"Received {result}\")\n",
    "ws.close()"
   ]
  },
  {
   "cell_type": "code",
   "execution_count": 12,
   "id": "d477b4d4-04b6-4eb5-a630-766765b035c4",
   "metadata": {},
   "outputs": [],
   "source": [
    "aa = json.loads(result)"
   ]
  },
  {
   "cell_type": "code",
   "execution_count": 13,
   "id": "8ac3ab2f-ae34-4526-9a55-e7c6c4898e95",
   "metadata": {},
   "outputs": [
    {
     "data": {
      "text/plain": [
       "{'source': 'DEVICE',\n",
       " 'name': 'switch',\n",
       " 'displayName': 'Living Room Lights',\n",
       " 'value': 'off',\n",
       " 'unit': None,\n",
       " 'deviceId': 41,\n",
       " 'hubId': None,\n",
       " 'locationId': None,\n",
       " 'installedAppId': None,\n",
       " 'descriptionText': 'Living Room Lights was turned off'}"
      ]
     },
     "execution_count": 13,
     "metadata": {},
     "output_type": "execute_result"
    }
   ],
   "source": [
    "aa"
   ]
  },
  {
   "cell_type": "code",
   "execution_count": null,
   "id": "16d93c5a-60c4-4a51-9d16-db16774d9af4",
   "metadata": {},
   "outputs": [],
   "source": []
  }
 ],
 "metadata": {
  "kernelspec": {
   "display_name": "Python 3 (ipykernel)",
   "language": "python",
   "name": "python3"
  },
  "language_info": {
   "codemirror_mode": {
    "name": "ipython",
    "version": 3
   },
   "file_extension": ".py",
   "mimetype": "text/x-python",
   "name": "python",
   "nbconvert_exporter": "python",
   "pygments_lexer": "ipython3",
   "version": "3.8.10"
  }
 },
 "nbformat": 4,
 "nbformat_minor": 5
}
